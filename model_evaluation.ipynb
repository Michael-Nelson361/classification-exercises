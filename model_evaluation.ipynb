{
 "cells": [
  {
   "cell_type": "markdown",
   "id": "f182f469-8fe2-4280-ad32-97c3f1ff3624",
   "metadata": {},
   "source": [
    "1. Create a new file named `model_evaluation.py` or `model_evaluation.ipynb` for these exercises."
   ]
  },
  {
   "cell_type": "markdown",
   "id": "40009379-3957-4e4a-bf25-5fd5ad4d173b",
   "metadata": {},
   "source": [
    "> <input type=\"checkbox\" checked> done"
   ]
  },
  {
   "cell_type": "markdown",
   "id": "f964ae9f-2adb-4b97-82a4-ee37d71923ec",
   "metadata": {},
   "source": [
    "2. Given the following confusion matrix, evaluate (by hand) the model's performance.\n",
    "    \n",
    "    ```\n",
    "    |               | pred dog   | pred cat   |\n",
    "    |:------------  |-----------:|-----------:|\n",
    "    | actual dog    |         46 |         7  |\n",
    "    | actual cat    |         13 |         34 |\n",
    "    \n",
    "    ```\n",
    "    \n",
    "    - In the context of this problem, what is a false positive?\n",
    "    - In the context of this problem, what is a false negative?\n",
    "    - How would you describe this model?"
   ]
  },
  {
   "cell_type": "markdown",
   "id": "dd4a39ab-1f35-495d-8449-f701897d8daf",
   "metadata": {},
   "source": [
    "> Adjust it to add positive notations\n",
    "\n",
    "```\n",
    "    |               | pred dog(P)| pred cat(N)|\n",
    "    |:------------  |-----------:|-----------:|\n",
    "    | actual dog(P) |         46 |         7  |\n",
    "    | actual cat(N) |         13 |         34 |\n",
    "    \n",
    "```\n",
    "\n",
    "- In the context of this problem, a **false positive** is <u>predicted dog but actual cat</u>, of which there are 13.\n",
    "- In the context of this problem, a **false negative** is <u>predicted cat but actual dog</u>, of which there are 7.\n",
    "- I would describe this model by evaluating it with the accuracy model.\n",
    "\n",
    "$\\frac{TP+TN}{TP+TN+FP+FN}$\n",
    "\n",
    "$\\frac{46 + 34}{46 + 7 + 13 + 34}$\n",
    "\n",
    "$\\frac{80}{100}$\n",
    "\n",
    "- $0.8$ accuracy"
   ]
  },
  {
   "cell_type": "markdown",
   "id": "19174737-6dac-4438-85d1-551628129e89",
   "metadata": {},
   "source": [
    "3. You are working as a datascientist working for Codeup Cody Creator (C3 for short), a rubber-duck manufacturing plant.\n",
    "    \n",
    "    Unfortunately, some of the rubber ducks that are produced will have defects. Your team has built several models that try to predict those defects, and the data from their predictions [can be found here](https://ds.codeup.com/data/c3.csv).\n",
    "    \n",
    "    Use the predictions dataset and pandas to help answer the following questions:\n",
    "    \n",
    "    - An internal team wants to investigate the cause of the manufacturing defects. They tell you that they want to identify as many of the ducks that have a defect as possible. Which evaluation metric would be appropriate here? Which model would be the best fit for this use case?\n",
    "    - Recently several stories in the local news have come out highlighting customers who received a rubber duck with a defect, and portraying C3 in a bad light. The PR team has decided to launch a program that gives customers with a defective duck a vacation to Hawaii. They need you to predict which ducks will have defects, but tell you the really don't want to accidentally give out a vacation package when the duck really doesn't have a defect. Which evaluation metric would be appropriate here? Which model would be the best fit for this use case?"
   ]
  },
  {
   "cell_type": "code",
   "execution_count": 502,
   "id": "b09c46cb-e2dd-4053-9653-8d42c9a4fdf8",
   "metadata": {},
   "outputs": [],
   "source": [
    "# import libraries\n",
    "import pandas as pd\n",
    "import numpy as np\n",
    "from sklearn import metrics"
   ]
  },
  {
   "cell_type": "code",
   "execution_count": 45,
   "id": "b876fc0b-aebd-464e-9c1b-f911f35beeac",
   "metadata": {
    "tags": []
   },
   "outputs": [],
   "source": [
    "# import dataset\n",
    "c3 = pd.read_csv('c3.csv')"
   ]
  },
  {
   "cell_type": "code",
   "execution_count": 49,
   "id": "f317b29e-adf9-440a-80df-8b8c3696946b",
   "metadata": {
    "tags": []
   },
   "outputs": [
    {
     "data": {
      "text/html": [
       "<div>\n",
       "<style scoped>\n",
       "    .dataframe tbody tr th:only-of-type {\n",
       "        vertical-align: middle;\n",
       "    }\n",
       "\n",
       "    .dataframe tbody tr th {\n",
       "        vertical-align: top;\n",
       "    }\n",
       "\n",
       "    .dataframe thead th {\n",
       "        text-align: right;\n",
       "    }\n",
       "</style>\n",
       "<table border=\"1\" class=\"dataframe\">\n",
       "  <thead>\n",
       "    <tr style=\"text-align: right;\">\n",
       "      <th></th>\n",
       "      <th>actual</th>\n",
       "      <th>model1</th>\n",
       "      <th>model2</th>\n",
       "      <th>model3</th>\n",
       "    </tr>\n",
       "  </thead>\n",
       "  <tbody>\n",
       "    <tr>\n",
       "      <th>0</th>\n",
       "      <td>No Defect</td>\n",
       "      <td>No Defect</td>\n",
       "      <td>Defect</td>\n",
       "      <td>No Defect</td>\n",
       "    </tr>\n",
       "    <tr>\n",
       "      <th>1</th>\n",
       "      <td>No Defect</td>\n",
       "      <td>No Defect</td>\n",
       "      <td>Defect</td>\n",
       "      <td>Defect</td>\n",
       "    </tr>\n",
       "    <tr>\n",
       "      <th>2</th>\n",
       "      <td>No Defect</td>\n",
       "      <td>No Defect</td>\n",
       "      <td>Defect</td>\n",
       "      <td>No Defect</td>\n",
       "    </tr>\n",
       "    <tr>\n",
       "      <th>3</th>\n",
       "      <td>No Defect</td>\n",
       "      <td>Defect</td>\n",
       "      <td>Defect</td>\n",
       "      <td>Defect</td>\n",
       "    </tr>\n",
       "    <tr>\n",
       "      <th>4</th>\n",
       "      <td>No Defect</td>\n",
       "      <td>No Defect</td>\n",
       "      <td>Defect</td>\n",
       "      <td>No Defect</td>\n",
       "    </tr>\n",
       "  </tbody>\n",
       "</table>\n",
       "</div>"
      ],
      "text/plain": [
       "      actual     model1  model2     model3\n",
       "0  No Defect  No Defect  Defect  No Defect\n",
       "1  No Defect  No Defect  Defect     Defect\n",
       "2  No Defect  No Defect  Defect  No Defect\n",
       "3  No Defect     Defect  Defect     Defect\n",
       "4  No Defect  No Defect  Defect  No Defect"
      ]
     },
     "execution_count": 49,
     "metadata": {},
     "output_type": "execute_result"
    }
   ],
   "source": [
    "# look at data\n",
    "c3.head()"
   ]
  },
  {
   "cell_type": "code",
   "execution_count": 59,
   "id": "81ea3dc9-a67f-4d26-b21d-74efdcf854ec",
   "metadata": {
    "tags": []
   },
   "outputs": [
    {
     "data": {
      "text/html": [
       "<div>\n",
       "<style scoped>\n",
       "    .dataframe tbody tr th:only-of-type {\n",
       "        vertical-align: middle;\n",
       "    }\n",
       "\n",
       "    .dataframe tbody tr th {\n",
       "        vertical-align: top;\n",
       "    }\n",
       "\n",
       "    .dataframe thead th {\n",
       "        text-align: right;\n",
       "    }\n",
       "</style>\n",
       "<table border=\"1\" class=\"dataframe\">\n",
       "  <thead>\n",
       "    <tr style=\"text-align: right;\">\n",
       "      <th></th>\n",
       "      <th>actual</th>\n",
       "      <th>model1</th>\n",
       "      <th>model2</th>\n",
       "      <th>model3</th>\n",
       "    </tr>\n",
       "  </thead>\n",
       "  <tbody>\n",
       "    <tr>\n",
       "      <th>count</th>\n",
       "      <td>200</td>\n",
       "      <td>200</td>\n",
       "      <td>200</td>\n",
       "      <td>200</td>\n",
       "    </tr>\n",
       "    <tr>\n",
       "      <th>unique</th>\n",
       "      <td>2</td>\n",
       "      <td>2</td>\n",
       "      <td>2</td>\n",
       "      <td>2</td>\n",
       "    </tr>\n",
       "    <tr>\n",
       "      <th>top</th>\n",
       "      <td>No Defect</td>\n",
       "      <td>No Defect</td>\n",
       "      <td>No Defect</td>\n",
       "      <td>No Defect</td>\n",
       "    </tr>\n",
       "    <tr>\n",
       "      <th>freq</th>\n",
       "      <td>184</td>\n",
       "      <td>190</td>\n",
       "      <td>110</td>\n",
       "      <td>101</td>\n",
       "    </tr>\n",
       "  </tbody>\n",
       "</table>\n",
       "</div>"
      ],
      "text/plain": [
       "           actual     model1     model2     model3\n",
       "count         200        200        200        200\n",
       "unique          2          2          2          2\n",
       "top     No Defect  No Defect  No Defect  No Defect\n",
       "freq          184        190        110        101"
      ]
     },
     "execution_count": 59,
     "metadata": {},
     "output_type": "execute_result"
    }
   ],
   "source": [
    "c3.describe()"
   ]
  },
  {
   "cell_type": "code",
   "execution_count": 81,
   "id": "e197cdc2-a75a-4945-932d-0f8edbc00b1d",
   "metadata": {
    "tags": []
   },
   "outputs": [
    {
     "data": {
      "text/html": [
       "<div>\n",
       "<style scoped>\n",
       "    .dataframe tbody tr th:only-of-type {\n",
       "        vertical-align: middle;\n",
       "    }\n",
       "\n",
       "    .dataframe tbody tr th {\n",
       "        vertical-align: top;\n",
       "    }\n",
       "\n",
       "    .dataframe thead th {\n",
       "        text-align: right;\n",
       "    }\n",
       "</style>\n",
       "<table border=\"1\" class=\"dataframe\">\n",
       "  <thead>\n",
       "    <tr style=\"text-align: right;\">\n",
       "      <th>actual</th>\n",
       "      <th>Defect</th>\n",
       "      <th>No Defect</th>\n",
       "    </tr>\n",
       "    <tr>\n",
       "      <th>model1</th>\n",
       "      <th></th>\n",
       "      <th></th>\n",
       "    </tr>\n",
       "  </thead>\n",
       "  <tbody>\n",
       "    <tr>\n",
       "      <th>Defect</th>\n",
       "      <td>8</td>\n",
       "      <td>2</td>\n",
       "    </tr>\n",
       "    <tr>\n",
       "      <th>No Defect</th>\n",
       "      <td>8</td>\n",
       "      <td>182</td>\n",
       "    </tr>\n",
       "  </tbody>\n",
       "</table>\n",
       "</div>"
      ],
      "text/plain": [
       "actual     Defect  No Defect\n",
       "model1                      \n",
       "Defect          8          2\n",
       "No Defect       8        182"
      ]
     },
     "execution_count": 81,
     "metadata": {},
     "output_type": "execute_result"
    }
   ],
   "source": [
    "mod1 = pd.crosstab(c3.model1,c3.actual)\n",
    "mod1"
   ]
  },
  {
   "cell_type": "code",
   "execution_count": 83,
   "id": "4ed2cfe1-4c87-4c3c-bd5e-65cd8a6fef6e",
   "metadata": {
    "tags": []
   },
   "outputs": [
    {
     "data": {
      "text/html": [
       "<div>\n",
       "<style scoped>\n",
       "    .dataframe tbody tr th:only-of-type {\n",
       "        vertical-align: middle;\n",
       "    }\n",
       "\n",
       "    .dataframe tbody tr th {\n",
       "        vertical-align: top;\n",
       "    }\n",
       "\n",
       "    .dataframe thead th {\n",
       "        text-align: right;\n",
       "    }\n",
       "</style>\n",
       "<table border=\"1\" class=\"dataframe\">\n",
       "  <thead>\n",
       "    <tr style=\"text-align: right;\">\n",
       "      <th>actual</th>\n",
       "      <th>Defect</th>\n",
       "      <th>No Defect</th>\n",
       "    </tr>\n",
       "    <tr>\n",
       "      <th>model2</th>\n",
       "      <th></th>\n",
       "      <th></th>\n",
       "    </tr>\n",
       "  </thead>\n",
       "  <tbody>\n",
       "    <tr>\n",
       "      <th>Defect</th>\n",
       "      <td>9</td>\n",
       "      <td>81</td>\n",
       "    </tr>\n",
       "    <tr>\n",
       "      <th>No Defect</th>\n",
       "      <td>7</td>\n",
       "      <td>103</td>\n",
       "    </tr>\n",
       "  </tbody>\n",
       "</table>\n",
       "</div>"
      ],
      "text/plain": [
       "actual     Defect  No Defect\n",
       "model2                      \n",
       "Defect          9         81\n",
       "No Defect       7        103"
      ]
     },
     "execution_count": 83,
     "metadata": {},
     "output_type": "execute_result"
    }
   ],
   "source": [
    "mod2 = pd.crosstab(c3.model2,c3.actual)\n",
    "mod2"
   ]
  },
  {
   "cell_type": "code",
   "execution_count": 121,
   "id": "e8507104-bc7c-4073-bb1b-d8136f230f46",
   "metadata": {
    "tags": []
   },
   "outputs": [
    {
     "data": {
      "text/html": [
       "<div>\n",
       "<style scoped>\n",
       "    .dataframe tbody tr th:only-of-type {\n",
       "        vertical-align: middle;\n",
       "    }\n",
       "\n",
       "    .dataframe tbody tr th {\n",
       "        vertical-align: top;\n",
       "    }\n",
       "\n",
       "    .dataframe thead th {\n",
       "        text-align: right;\n",
       "    }\n",
       "</style>\n",
       "<table border=\"1\" class=\"dataframe\">\n",
       "  <thead>\n",
       "    <tr style=\"text-align: right;\">\n",
       "      <th>actual</th>\n",
       "      <th>Defect</th>\n",
       "      <th>No Defect</th>\n",
       "    </tr>\n",
       "    <tr>\n",
       "      <th>model3</th>\n",
       "      <th></th>\n",
       "      <th></th>\n",
       "    </tr>\n",
       "  </thead>\n",
       "  <tbody>\n",
       "    <tr>\n",
       "      <th>Defect</th>\n",
       "      <td>13</td>\n",
       "      <td>86</td>\n",
       "    </tr>\n",
       "    <tr>\n",
       "      <th>No Defect</th>\n",
       "      <td>3</td>\n",
       "      <td>98</td>\n",
       "    </tr>\n",
       "  </tbody>\n",
       "</table>\n",
       "</div>"
      ],
      "text/plain": [
       "actual     Defect  No Defect\n",
       "model3                      \n",
       "Defect         13         86\n",
       "No Defect       3         98"
      ]
     },
     "execution_count": 121,
     "metadata": {},
     "output_type": "execute_result"
    }
   ],
   "source": [
    "mod3 = pd.crosstab(c3.model3,c3.actual)\n",
    "mod3"
   ]
  },
  {
   "cell_type": "code",
   "execution_count": 504,
   "id": "49112a1c-b203-431b-ba7d-8d0b2f35844b",
   "metadata": {
    "tags": []
   },
   "outputs": [],
   "source": [
    "def evaluator(df,prediction,actual,model='accuracy',target='None'):\n",
    "    \"\"\"\n",
    "    Quick evaluator.\n",
    "    df, required: a dataframe to look at\n",
    "    prediction, required: the string name of model\n",
    "    actual, required: the string name of the actual data\n",
    "    model, opt: default to 'accuracy'. Additional options: 'precision','recall'\n",
    "    target, required for precision and recall: string value to focus on (for being the positive value)\n",
    "    \"\"\"\n",
    "    \n",
    "    # run base calculation\n",
    "    if model == 'accuracy':\n",
    "        return (df[prediction] == df[actual]).mean()\n",
    "    elif model == 'precision':\n",
    "        pos_prediction = df[df[prediction] == target]\n",
    "        return (pos_prediction[prediction] == pos_prediction[actual]).mean()\n",
    "    elif model == 'recall':\n",
    "        pos_actuals = df[df[actual] == target]\n",
    "        return (pos_actuals[prediction] == pos_actuals[actual]).mean()\n",
    "    else:\n",
    "        print('Invalid input/unsupported model')"
   ]
  },
  {
   "cell_type": "markdown",
   "id": "5c9b1fba-1d8b-44ec-a815-ffaff39e3e40",
   "metadata": {},
   "source": [
    "> - An internal team wants to investigate the cause of the manufacturing defects. They tell you that they want to identify as many of the ducks that have a defect as possible. Which evaluation metric would be appropriate here? Which model would be the best fit for this use case?\n",
    "\n",
    "In this case, we'll set a defective duck as 'positive'. As a result, we would focus on ~accuracy~ **recall**. "
   ]
  },
  {
   "cell_type": "code",
   "execution_count": 441,
   "id": "b84ba22e-f2d0-4340-bfdf-31830042094c",
   "metadata": {
    "tags": []
   },
   "outputs": [
    {
     "data": {
      "text/plain": [
       "0.95"
      ]
     },
     "execution_count": 441,
     "metadata": {},
     "output_type": "execute_result"
    }
   ],
   "source": [
    "# Test model 1 accuracy\n",
    "evaluator(c3,'model1','actual')"
   ]
  },
  {
   "cell_type": "code",
   "execution_count": 443,
   "id": "fb0a06ed-575f-4375-975c-fcd1d365020b",
   "metadata": {
    "tags": []
   },
   "outputs": [
    {
     "data": {
      "text/plain": [
       "0.56"
      ]
     },
     "execution_count": 443,
     "metadata": {},
     "output_type": "execute_result"
    }
   ],
   "source": [
    "# Test model 2 accuracy\n",
    "evaluator(c3,'model2','actual')"
   ]
  },
  {
   "cell_type": "code",
   "execution_count": 582,
   "id": "70e0d024-7e1f-4402-b25b-5eaabe34d29e",
   "metadata": {
    "tags": []
   },
   "outputs": [
    {
     "data": {
      "text/plain": [
       "0.555"
      ]
     },
     "execution_count": 582,
     "metadata": {},
     "output_type": "execute_result"
    }
   ],
   "source": [
    "# Test model 3 accuracy\n",
    "evaluator(c3,'model3','actual')"
   ]
  },
  {
   "cell_type": "markdown",
   "id": "741bd485-43be-42a1-8523-c748941f2d50",
   "metadata": {},
   "source": [
    "A: From running our models, we find that **model1** has the highest accuracy of prediction, so it would be the best fit."
   ]
  },
  {
   "cell_type": "code",
   "execution_count": 600,
   "id": "1b3ad099-18a9-464d-8a5d-bd4785c17919",
   "metadata": {
    "tags": []
   },
   "outputs": [
    {
     "name": "stdout",
     "output_type": "stream",
     "text": [
      "Best fit is model3\n"
     ]
    }
   ],
   "source": [
    "# For testing recall\n",
    "recall = {col:evaluator(c3,col,'actual','recall','Defect') for col in c3.columns[1:]}\n",
    "# recall\n",
    "\n",
    "best_fit = max(recall,key=recall.get)\n",
    "# best_fit\n",
    "print(f'Best fit is {best_fit}')"
   ]
  },
  {
   "cell_type": "code",
   "execution_count": null,
   "id": "53795160-2057-47e8-8004-86726c58a8c1",
   "metadata": {},
   "outputs": [],
   "source": []
  },
  {
   "cell_type": "markdown",
   "id": "7f0eeda5-b888-4d65-bf1e-777148b2e5d4",
   "metadata": {},
   "source": [
    "> - Recently several stories in the local news have come out highlighting customers who received a rubber duck with a defect, and portraying C3 in a bad light. The PR team has decided to launch a program that gives customers with a defective duck a vacation to Hawaii. They need you to predict which ducks will have defects, but tell you the really don't want to accidentally give out a vacation package when the duck really doesn't have a defect. Which evaluation metric would be appropriate here? Which model would be the best fit for this use case?\n",
    "\n",
    "For this calculation, defective ducks are once again the **positive** value, while non-defective ducks are the **negative**. Since we want to minimize false positives, this calls for *precision*."
   ]
  },
  {
   "cell_type": "code",
   "execution_count": 475,
   "id": "a5fb4b8d-a18c-403a-a75b-77a676f87c9f",
   "metadata": {
    "tags": []
   },
   "outputs": [
    {
     "name": "stdout",
     "output_type": "stream",
     "text": [
      "Best fit is: model1 at 0.8\n"
     ]
    }
   ],
   "source": [
    "# Create a dictionary that holds the resulting percentages from the evaluator calculation\n",
    "results = {\n",
    "    'model1':evaluator(c3,'model1','actual','precision','Defect'),\n",
    "    'model2':evaluator(c3,'model2','actual','precision','Defect'),\n",
    "    'model3':evaluator(c3,'model3','actual','precision','Defect')\n",
    "}\n",
    "\n",
    "best_fit = max(results,key=results.get)\n",
    "\n",
    "print(f'Best fit is: {best_fit} at {results[best_fit]}')\n",
    "# print(results)"
   ]
  },
  {
   "cell_type": "markdown",
   "id": "33a31ddb-9f5b-4be9-8b1f-707422f39630",
   "metadata": {},
   "source": [
    "As calculated, the best model for this job will be **model 1**"
   ]
  },
  {
   "cell_type": "markdown",
   "id": "5449c4e6-f69f-4f0a-a7be-9d9e47dfcea6",
   "metadata": {},
   "source": [
    "4. You are working as a data scientist for Gives You Paws ™, a subscription based service that shows you cute pictures of dogs or cats (or both for an additional fee).\n",
    "    \n",
    "    At Gives You Paws, anyone can upload pictures of their cats or dogs. The photos are then put through a two step process. First an automated algorithm tags pictures as either a cat or a dog (Phase I). Next, the photos that have been initially identified are put through another round of review, possibly with some human oversight, before being presented to the users (Phase II).\n",
    "    \n",
    "    Several models have already been developed with the data, and [you can find their results here](https://ds.codeup.com/data/gives_you_paws.csv).\n",
    "    \n",
    "    Given this dataset, use pandas to create a baseline model (i.e. a model that just predicts the most common class) and answer the following questions:\n",
    "    \n",
    "    1. In terms of accuracy, how do the various models compare to the baseline model? Are any of the models better than the baseline?\n",
    "    2. Suppose you are working on a team that solely deals with dog pictures. Which of these models would you recommend?\n",
    "    3. Suppose you are working on a team that solely deals with cat pictures. Which of these models would you recommend?"
   ]
  },
  {
   "cell_type": "code",
   "execution_count": 257,
   "id": "d7208ae4-5fc0-431c-bb56-468e2f787f64",
   "metadata": {},
   "outputs": [
    {
     "data": {
      "text/html": [
       "<div>\n",
       "<style scoped>\n",
       "    .dataframe tbody tr th:only-of-type {\n",
       "        vertical-align: middle;\n",
       "    }\n",
       "\n",
       "    .dataframe tbody tr th {\n",
       "        vertical-align: top;\n",
       "    }\n",
       "\n",
       "    .dataframe thead th {\n",
       "        text-align: right;\n",
       "    }\n",
       "</style>\n",
       "<table border=\"1\" class=\"dataframe\">\n",
       "  <thead>\n",
       "    <tr style=\"text-align: right;\">\n",
       "      <th></th>\n",
       "      <th>actual</th>\n",
       "      <th>model1</th>\n",
       "      <th>model2</th>\n",
       "      <th>model3</th>\n",
       "      <th>model4</th>\n",
       "    </tr>\n",
       "  </thead>\n",
       "  <tbody>\n",
       "    <tr>\n",
       "      <th>0</th>\n",
       "      <td>cat</td>\n",
       "      <td>cat</td>\n",
       "      <td>dog</td>\n",
       "      <td>cat</td>\n",
       "      <td>dog</td>\n",
       "    </tr>\n",
       "    <tr>\n",
       "      <th>1</th>\n",
       "      <td>dog</td>\n",
       "      <td>dog</td>\n",
       "      <td>cat</td>\n",
       "      <td>cat</td>\n",
       "      <td>dog</td>\n",
       "    </tr>\n",
       "    <tr>\n",
       "      <th>2</th>\n",
       "      <td>dog</td>\n",
       "      <td>cat</td>\n",
       "      <td>cat</td>\n",
       "      <td>cat</td>\n",
       "      <td>dog</td>\n",
       "    </tr>\n",
       "    <tr>\n",
       "      <th>3</th>\n",
       "      <td>dog</td>\n",
       "      <td>dog</td>\n",
       "      <td>dog</td>\n",
       "      <td>cat</td>\n",
       "      <td>dog</td>\n",
       "    </tr>\n",
       "    <tr>\n",
       "      <th>4</th>\n",
       "      <td>cat</td>\n",
       "      <td>cat</td>\n",
       "      <td>cat</td>\n",
       "      <td>dog</td>\n",
       "      <td>dog</td>\n",
       "    </tr>\n",
       "  </tbody>\n",
       "</table>\n",
       "</div>"
      ],
      "text/plain": [
       "  actual model1 model2 model3 model4\n",
       "0    cat    cat    dog    cat    dog\n",
       "1    dog    dog    cat    cat    dog\n",
       "2    dog    cat    cat    cat    dog\n",
       "3    dog    dog    dog    cat    dog\n",
       "4    cat    cat    cat    dog    dog"
      ]
     },
     "execution_count": 257,
     "metadata": {},
     "output_type": "execute_result"
    }
   ],
   "source": [
    "# Read in the data\n",
    "paws = pd.read_csv('gives_you_paws.csv')\n",
    "paws.head()"
   ]
  },
  {
   "cell_type": "code",
   "execution_count": 487,
   "id": "3a4b7c2c-92c6-46aa-8ccc-08619b3daa49",
   "metadata": {
    "tags": []
   },
   "outputs": [],
   "source": [
    "# build baseline model\n",
    "def base_model(actual):\n",
    "    # get mode\n",
    "    mode = actual.mode()\n",
    "    # print(mode)\n",
    "    \n",
    "    # compare mode against actual model\n",
    "    series = actual.isin(mode)\n",
    "    # print(series)\n",
    "    \n",
    "    # return percentage of accuracy\n",
    "    return series.mean()"
   ]
  },
  {
   "cell_type": "code",
   "execution_count": 491,
   "id": "e874008c-1be6-4178-a6b8-5297b4c89fa0",
   "metadata": {
    "tags": []
   },
   "outputs": [
    {
     "name": "stdout",
     "output_type": "stream",
     "text": [
      "model1 exceeds the baseline (0.8074 > 0.6508)\n",
      "model4 exceeds the baseline (0.7426 > 0.6508)\n"
     ]
    }
   ],
   "source": [
    "results = {\n",
    "    'baseline': base_model(paws.actual),\n",
    "    'model1':evaluator(paws,'model1','actual'),\n",
    "    'model2':evaluator(paws,'model2','actual'),\n",
    "    'model3':evaluator(paws,'model3','actual'),\n",
    "    'model4':evaluator(paws,'model4','actual')\n",
    "}\n",
    "# print(results)\n",
    "for result in results:\n",
    "    # print(result)\n",
    "    if results[result] > results['baseline']:\n",
    "        print(f'{result} exceeds the baseline ({results[result]} > {results[\"baseline\"]})')"
   ]
  },
  {
   "cell_type": "markdown",
   "id": "d5308f6f-d324-43be-b0a5-6f4f1524f91a",
   "metadata": {},
   "source": [
    "A: Models better than the baseline are model 1 and model 4. The others fall at or below the baseline."
   ]
  },
  {
   "cell_type": "code",
   "execution_count": 508,
   "id": "2ed43631-955d-43e7-9496-7013d0a3b71a",
   "metadata": {
    "tags": []
   },
   "outputs": [
    {
     "name": "stdout",
     "output_type": "stream",
     "text": [
      "model4\n"
     ]
    }
   ],
   "source": [
    "# Evaluate for dogs\n",
    "model = 'recall'\n",
    "target = 'dog'\n",
    "\n",
    "results = {\n",
    "    'baseline': base_model(paws.actual),\n",
    "    'model1':evaluator(paws,'model1','actual',model,target),\n",
    "    'model2':evaluator(paws,'model2','actual',model,target),\n",
    "    'model3':evaluator(paws,'model3','actual',model,target),\n",
    "    'model4':evaluator(paws,'model4','actual',model,target)\n",
    "}\n",
    "\n",
    "best_fit = max(results,key=results.get)\n",
    "print(best_fit)"
   ]
  },
  {
   "cell_type": "markdown",
   "id": "3eef7df2-17d0-4bba-9b61-19df8bd1e117",
   "metadata": {},
   "source": [
    "B: For working with dogs, you would likely use *recall* to minimize false negatives. **Model 4** works best for dogs."
   ]
  },
  {
   "cell_type": "code",
   "execution_count": 514,
   "id": "15ba1cab-bc97-4b13-adad-cd6a7dc87fa8",
   "metadata": {
    "tags": []
   },
   "outputs": [
    {
     "name": "stdout",
     "output_type": "stream",
     "text": [
      "model2\n"
     ]
    }
   ],
   "source": [
    "# Evaluate for dogs\n",
    "model = 'recall'\n",
    "target = 'cat'\n",
    "\n",
    "results = {\n",
    "    'baseline': base_model(paws.actual),\n",
    "    'model1':evaluator(paws,'model1','actual',model,target),\n",
    "    'model2':evaluator(paws,'model2','actual',model,target),\n",
    "    'model3':evaluator(paws,'model3','actual',model,target),\n",
    "    'model4':evaluator(paws,'model4','actual',model,target)\n",
    "}\n",
    "\n",
    "best_fit = max(results,key=results.get)\n",
    "print(best_fit)"
   ]
  },
  {
   "cell_type": "markdown",
   "id": "da4cd055-5058-4212-b72d-c812a3ff4ae2",
   "metadata": {},
   "source": [
    "C: For working with cats, you would also want to minimize false negatives. **Model 2** works best for cats."
   ]
  },
  {
   "cell_type": "markdown",
   "id": "7acd3ef6-5cf8-4fe5-bd0c-4e5363a03ff5",
   "metadata": {},
   "source": [
    "5. Follow the links below to read the documentation about each function, then apply those functions to the data from the previous problem.\n",
    "    - [sklearn.metrics.accuracy_score](https://scikit-learn.org/stable/modules/generated/sklearn.metrics.accuracy_score.html)\n",
    "    - [sklearn.metrics.precision_score](https://scikit-learn.org/stable/modules/generated/sklearn.metrics.precision_score.html)\n",
    "    - [sklearn.metrics.recall_score](https://scikit-learn.org/stable/modules/generated/sklearn.metrics.recall_score.html)\n",
    "    - [sklearn.metrics.classification_report](https://scikit-learn.org/stable/modules/generated/sklearn.metrics.classification_report.html)"
   ]
  },
  {
   "cell_type": "markdown",
   "id": "14a9bd5b-1887-43b1-860e-3c128b29f885",
   "metadata": {},
   "source": [
    "5.\n",
    "    1. In terms of accuracy, how do the various models compare to the baseline model? Are any of the models better than the baseline?\n",
    "    \n",
    "    2. Suppose you are working on a team that solely deals with dog pictures. Which of these models would you recommend?\n",
    "    \n",
    "    3. Suppose you are working on a team that solely deals with cat pictures. Which of these models would you recommend?\n",
    "    "
   ]
  },
  {
   "cell_type": "code",
   "execution_count": 548,
   "id": "28c62c8b-46e9-4efe-9efd-3178b31e7e04",
   "metadata": {
    "tags": []
   },
   "outputs": [
    {
     "data": {
      "text/plain": [
       "Index(['model1', 'model2', 'model3', 'model4'], dtype='object')"
      ]
     },
     "execution_count": 548,
     "metadata": {},
     "output_type": "execute_result"
    }
   ],
   "source": [
    "models = paws.columns[1:]\n",
    "models"
   ]
  },
  {
   "cell_type": "code",
   "execution_count": 525,
   "id": "f36f8a16-dfde-4064-8d16-5a7c075efd38",
   "metadata": {
    "tags": []
   },
   "outputs": [
    {
     "data": {
      "text/plain": [
       "0.8074"
      ]
     },
     "execution_count": 525,
     "metadata": {},
     "output_type": "execute_result"
    }
   ],
   "source": [
    "metrics.accuracy_score(paws.actual,paws.model1)"
   ]
  },
  {
   "cell_type": "code",
   "execution_count": 550,
   "id": "78cc42d2-fb9a-483a-ae2a-991ae1c54718",
   "metadata": {
    "tags": []
   },
   "outputs": [
    {
     "name": "stdout",
     "output_type": "stream",
     "text": [
      "{'model1': 0.8074, 'model2': 0.6304, 'model3': 0.5096, 'model4': 0.7426}\n",
      "The best fit model is model1\n"
     ]
    }
   ],
   "source": [
    "# A:\n",
    "# Dictionary comprehension!!\n",
    "accuracy = {model:metrics.accuracy_score(paws.actual,paws[model]) for model in models}\n",
    "best_fit = max(accuracy,key=accuracy.get)\n",
    "\n",
    "print(accuracy)\n",
    "print(f'The best fit model is {best_fit}')"
   ]
  },
  {
   "cell_type": "code",
   "execution_count": 570,
   "id": "2bfbdb33-96cd-4371-a395-38c74e9f6047",
   "metadata": {
    "tags": []
   },
   "outputs": [
    {
     "name": "stdout",
     "output_type": "stream",
     "text": [
      "{'model1': 0.803318992009834, 'model2': 0.49078057775046097, 'model3': 0.5086047940995697, 'model4': 0.9557467732022127}\n",
      "The best fit model is model4\n"
     ]
    }
   ],
   "source": [
    "# B:\n",
    "# More dictionary comprehension!\n",
    "recall = {model:metrics.recall_score(paws.actual,paws[model],pos_label='dog') for model in models}\n",
    "recall\n",
    "\n",
    "print(recall)\n",
    "best_fit = max(recall,key=recall.get)\n",
    "print(f'The best fit model is {best_fit}')"
   ]
  },
  {
   "cell_type": "code",
   "execution_count": 572,
   "id": "b080d8bf-d9bc-45e5-ab47-77163b0f4fa4",
   "metadata": {
    "tags": []
   },
   "outputs": [
    {
     "name": "stdout",
     "output_type": "stream",
     "text": [
      "{'model1': 0.8150057273768614, 'model2': 0.8906071019473081, 'model3': 0.5114547537227949, 'model4': 0.34536082474226804}\n",
      "The best fit model is model2\n"
     ]
    }
   ],
   "source": [
    "# C:\n",
    "recall = {model:metrics.recall_score(paws.actual,paws[model],pos_label='cat') for model in models}\n",
    "recall\n",
    "\n",
    "print(recall)\n",
    "best_fit = max(recall,key=recall.get)\n",
    "print(f'The best fit model is {best_fit}')"
   ]
  },
  {
   "cell_type": "code",
   "execution_count": null,
   "id": "2b125924-b5ee-4de3-8eeb-8ea3e501ff6d",
   "metadata": {},
   "outputs": [],
   "source": []
  }
 ],
 "metadata": {
  "kernelspec": {
   "display_name": "Python 3 (ipykernel)",
   "language": "python",
   "name": "python3"
  },
  "language_info": {
   "codemirror_mode": {
    "name": "ipython",
    "version": 3
   },
   "file_extension": ".py",
   "mimetype": "text/x-python",
   "name": "python",
   "nbconvert_exporter": "python",
   "pygments_lexer": "ipython3",
   "version": "3.11.5"
  }
 },
 "nbformat": 4,
 "nbformat_minor": 5
}
