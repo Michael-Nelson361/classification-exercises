{
 "cells": [
  {
   "cell_type": "markdown",
   "id": "f182f469-8fe2-4280-ad32-97c3f1ff3624",
   "metadata": {},
   "source": [
    "1. Create a new file named `model_evaluation.py` or `model_evaluation.ipynb` for these exercises."
   ]
  },
  {
   "cell_type": "code",
   "execution_count": null,
   "id": "5b200182-d454-483c-a8cf-1ac5cfad43b9",
   "metadata": {},
   "outputs": [],
   "source": []
  },
  {
   "cell_type": "markdown",
   "id": "f964ae9f-2adb-4b97-82a4-ee37d71923ec",
   "metadata": {},
   "source": [
    "2. Given the following confusion matrix, evaluate (by hand) the model's performance.\n",
    "    \n",
    "    ```\n",
    "    |               | pred dog   | pred cat   |\n",
    "    |:------------  |-----------:|-----------:|\n",
    "    | actual dog    |         46 |         7  |\n",
    "    | actual cat    |         13 |         34 |\n",
    "    \n",
    "    ```\n",
    "    \n",
    "    - In the context of this problem, what is a false positive?\n",
    "    - In the context of this problem, what is a false negative?\n",
    "    - How would you describe this model?"
   ]
  },
  {
   "cell_type": "code",
   "execution_count": null,
   "id": "ff13dbce-ab62-43a5-b030-a4e7f943e15d",
   "metadata": {},
   "outputs": [],
   "source": []
  },
  {
   "cell_type": "markdown",
   "id": "19174737-6dac-4438-85d1-551628129e89",
   "metadata": {},
   "source": [
    "3. You are working as a datascientist working for Codeup Cody Creator (C3 for short), a rubber-duck manufacturing plant.\n",
    "    \n",
    "    Unfortunately, some of the rubber ducks that are produced will have defects. Your team has built several models that try to predict those defects, and the data from their predictions [can be found here](https://ds.codeup.com/data/c3.csv).\n",
    "    \n",
    "    Use the predictions dataset and pandas to help answer the following questions:\n",
    "    \n",
    "    - An internal team wants to investigate the cause of the manufacturing defects. They tell you that they want to identify as many of the ducks that have a defect as possible. Which evaluation metric would be appropriate here? Which model would be the best fit for this use case?\n",
    "    - Recently several stories in the local news have come out highlighting customers who received a rubber duck with a defect, and portraying C3 in a bad light. The PR team has decided to launch a program that gives customers with a defective duck a vacation to Hawaii. They need you to predict which ducks will have defects, but tell you the really don't want to accidentally give out a vacation package when the duck really doesn't have a defect. Which evaluation metric would be appropriate here? Which model would be the best fit for this use case?"
   ]
  },
  {
   "cell_type": "code",
   "execution_count": null,
   "id": "b09c46cb-e2dd-4053-9653-8d42c9a4fdf8",
   "metadata": {},
   "outputs": [],
   "source": []
  },
  {
   "cell_type": "markdown",
   "id": "5449c4e6-f69f-4f0a-a7be-9d9e47dfcea6",
   "metadata": {},
   "source": [
    "4. You are working as a data scientist for Gives You Paws ™, a subscription based service that shows you cute pictures of dogs or cats (or both for an additional fee).\n",
    "    \n",
    "    At Gives You Paws, anyone can upload pictures of their cats or dogs. The photos are then put through a two step process. First an automated algorithm tags pictures as either a cat or a dog (Phase I). Next, the photos that have been initially identified are put through another round of review, possibly with some human oversight, before being presented to the users (Phase II).\n",
    "    \n",
    "    Several models have already been developed with the data, and [you can find their results here](https://ds.codeup.com/data/gives_you_paws.csv).\n",
    "    \n",
    "    Given this dataset, use pandas to create a baseline model (i.e. a model that just predicts the most common class) and answer the following questions:\n",
    "    \n",
    "    1. In terms of accuracy, how do the various models compare to the baseline model? Are any of the models better than the baseline?\n",
    "    2. Suppose you are working on a team that solely deals with dog pictures. Which of these models would you recommend?\n",
    "    3. Suppose you are working on a team that solely deals with cat pictures. Which of these models would you recommend?"
   ]
  },
  {
   "cell_type": "code",
   "execution_count": null,
   "id": "d7208ae4-5fc0-431c-bb56-468e2f787f64",
   "metadata": {},
   "outputs": [],
   "source": []
  },
  {
   "cell_type": "markdown",
   "id": "7acd3ef6-5cf8-4fe5-bd0c-4e5363a03ff5",
   "metadata": {},
   "source": [
    "5. Follow the links below to read the documentation about each function, then apply those functions to the data from the previous problem.\n",
    "    - `[sklearn.metrics.accuracy_score](https://scikit-learn.org/stable/modules/generated/sklearn.metrics.accuracy_score.html)`\n",
    "    - `[sklearn.metrics.precision_score](https://scikit-learn.org/stable/modules/generated/sklearn.metrics.precision_score.html)`\n",
    "    - `[sklearn.metrics.recall_score](https://scikit-learn.org/stable/modules/generated/sklearn.metrics.recall_score.html)`\n",
    "    - `[sklearn.metrics.classification_report](https://scikit-learn.org/stable/modules/generated/sklearn.metrics.classification_report.html)`"
   ]
  },
  {
   "cell_type": "code",
   "execution_count": null,
   "id": "8ad9c9af-6112-4dd0-871e-2d583670b7ff",
   "metadata": {},
   "outputs": [],
   "source": []
  }
 ],
 "metadata": {
  "kernelspec": {
   "display_name": "Python 3 (ipykernel)",
   "language": "python",
   "name": "python3"
  },
  "language_info": {
   "codemirror_mode": {
    "name": "ipython",
    "version": 3
   },
   "file_extension": ".py",
   "mimetype": "text/x-python",
   "name": "python",
   "nbconvert_exporter": "python",
   "pygments_lexer": "ipython3",
   "version": "3.11.5"
  }
 },
 "nbformat": 4,
 "nbformat_minor": 5
}
