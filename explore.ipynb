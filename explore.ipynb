{
 "cells": [
  {
   "cell_type": "markdown",
   "id": "83c2c633-55d0-4432-86b3-05034dc1ea45",
   "metadata": {},
   "source": [
    "----\n",
    "### Part I\n",
    "\n",
    "Do these exercises in `explore.ipynb` notebook. As always, add, commit, and push your changes.\n",
    "\n",
    "**Section 1 - iris_db:** Using iris data from our MySQL server and the methods used in the lesson above:\n",
    "\n",
    "1. Acquire, prepare & split your data."
   ]
  },
  {
   "cell_type": "markdown",
   "id": "f8cafc40-fb01-47fd-a200-1a5840d018f9",
   "metadata": {},
   "source": [
    "2. Univariate Stats\n",
    "    - For each measurement type (quantitative variable): create a histogram, boxplot, & compute descriptive statistics (using .describe()).\n",
    "    - For each species (categorical variable): create a frequency table and a bar plot of those frequencies.\n",
    "    - Document takeaways & any actions."
   ]
  },
  {
   "cell_type": "markdown",
   "id": "b1783c71-499f-4dff-aecd-a9d11767a901",
   "metadata": {},
   "source": [
    "3. Bivariate Stats\n",
    "    - Visualize each measurement type (y-axis) with the species variable (x-axis) using barplots, adding a horizontal line showing the overall mean of the metric (y-axis).\n",
    "    - For each measurement type, compute the descriptive statistics for each species.\n",
    "    - For virginica & versicolor: Compare the mean petal_width using the Mann-Whitney test (scipy.stats.mannwhitneyu) to see if there is a significant difference between the two groups. Do the same for the other measurement types.\n",
    "    - Document takeaways & any actions."
   ]
  },
  {
   "cell_type": "markdown",
   "id": "08a9f00e-dcb4-4569-8cd0-b3199bad698e",
   "metadata": {},
   "source": [
    "4. Multivariate Stats\n",
    "    - Visualize the interaction of each measurement type with the others using a pairplot (or scatter matrix or something similar) and add color to represent species.\n",
    "    - Visualize two numeric variables of the species. Hint: `sns.relplot` with `hue` or `col`\n",
    "    - Create a swarmplot using a melted dataframe of all your numeric variables. The x-axis should be the variable name, the y-axis the measure. Add another dimension using color to represent species. Document takeaways from this visualization.\n",
    "    - Ask a specific question of the data, such as: is the sepal area signficantly different in virginica compared to setosa? Answer the question through both a plot and using a mann-whitney or t-test. If you use a t-test, be sure assumptions are met (independence, normality, equal variance).\n",
    "    - Document takeaways and any actions."
   ]
  },
  {
   "cell_type": "markdown",
   "id": "41de668f-d8e5-4324-888a-41690d8f7d10",
   "metadata": {},
   "source": [
    "----\n",
    "### Part II\n",
    "\n",
    "Explore your `titanic` dataset more completely.\n",
    "\n",
    "- Determine drivers of the target variable\n",
    "- Determine if certain columns should be dropped\n",
    "- Determine if it would be valuable to bin some numeric columns\n",
    "- Determine if it would be valuable to combine multiple columns into one."
   ]
  },
  {
   "cell_type": "markdown",
   "id": "d10106a5-f6fe-434f-9e48-1f236d6efc3e",
   "metadata": {},
   "source": [
    "Does it make sense to combine any features?"
   ]
  },
  {
   "cell_type": "markdown",
   "id": "e477611f-0f6f-478a-9577-43dc3dadeea5",
   "metadata": {},
   "source": [
    "Do you find any surprises?"
   ]
  },
  {
   "cell_type": "markdown",
   "id": "27862178-5212-49d5-850a-69870d56fe4f",
   "metadata": {},
   "source": [
    "Document any and all findings and takeaways in your notebook using markdown."
   ]
  },
  {
   "cell_type": "markdown",
   "id": "0fffb75d-5b24-4688-87a7-23888f675318",
   "metadata": {},
   "source": [
    "----\n",
    "### Part III\n",
    "\n",
    "- Explore your `telco` data to discover drivers of churn\n",
    "- Determine if certain columns should be dropped\n",
    "- Determine if it would be valuable to bin some numeric columns\n",
    "- Determine if it would be valuable to combine multiple columns into one."
   ]
  },
  {
   "cell_type": "markdown",
   "id": "263c58d9-4cb2-4e01-82b1-922e5ef49f9b",
   "metadata": {},
   "source": [
    "What are your drivers of churn?"
   ]
  },
  {
   "cell_type": "markdown",
   "id": "4df33308-abdf-4509-b304-574044cd2366",
   "metadata": {},
   "source": [
    "Does it make sense to combine any features?"
   ]
  },
  {
   "cell_type": "markdown",
   "id": "51023775-51ec-41af-abf8-f63014477c68",
   "metadata": {},
   "source": [
    "Do you find any surprises?"
   ]
  },
  {
   "cell_type": "markdown",
   "id": "670c7ad6-0b60-4278-b328-9b8c878d46c0",
   "metadata": {},
   "source": [
    "Document any and all findings and takeaways in your notebook using markdown."
   ]
  },
  {
   "cell_type": "code",
   "execution_count": null,
   "id": "182ebed1-cd98-447e-8959-80b8a65d6976",
   "metadata": {},
   "outputs": [],
   "source": []
  }
 ],
 "metadata": {
  "kernelspec": {
   "display_name": "Python 3 (ipykernel)",
   "language": "python",
   "name": "python3"
  },
  "language_info": {
   "codemirror_mode": {
    "name": "ipython",
    "version": 3
   },
   "file_extension": ".py",
   "mimetype": "text/x-python",
   "name": "python",
   "nbconvert_exporter": "python",
   "pygments_lexer": "ipython3",
   "version": "3.11.5"
  }
 },
 "nbformat": 4,
 "nbformat_minor": 5
}
