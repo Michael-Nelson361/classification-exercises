{
 "cells": [
  {
   "cell_type": "markdown",
   "id": "8749bf6e-275e-45ca-a2c4-dc72a2962259",
   "metadata": {},
   "source": [
    "- [ ] Create a new notebook, `knn_model`, and work with the titanic dataset to answer the following:"
   ]
  },
  {
   "cell_type": "code",
   "execution_count": 12,
   "id": "74a82fb7-bb49-4598-9d8e-53ff40dfeb6f",
   "metadata": {
    "tags": []
   },
   "outputs": [],
   "source": [
    "# Import full libraries\n",
    "import numpy as np\n",
    "import pandas as pd\n",
    "import matplotlib.pyplot as plt\n",
    "import seaborn as sns\n",
    "\n",
    "# Import personal modules\n",
    "import acquire as a\n",
    "import prepare as p\n",
    "import model as m\n",
    "\n",
    "# Selective imports\n",
    "from sklearn.neighbors import KNeighborsClassifier\n",
    "from sklearn import metrics\n",
    "\n",
    "# Handle warnings\n",
    "import warnings\n",
    "warnings.filterwarnings(\"ignore\")"
   ]
  },
  {
   "cell_type": "code",
   "execution_count": 26,
   "id": "3394984f-85aa-438b-9b81-783d4e22e03b",
   "metadata": {
    "tags": []
   },
   "outputs": [
    {
     "name": "stdout",
     "output_type": "stream",
     "text": [
      "Reading from file...\n"
     ]
    },
    {
     "data": {
      "text/html": [
       "<div>\n",
       "<style scoped>\n",
       "    .dataframe tbody tr th:only-of-type {\n",
       "        vertical-align: middle;\n",
       "    }\n",
       "\n",
       "    .dataframe tbody tr th {\n",
       "        vertical-align: top;\n",
       "    }\n",
       "\n",
       "    .dataframe thead th {\n",
       "        text-align: right;\n",
       "    }\n",
       "</style>\n",
       "<table border=\"1\" class=\"dataframe\">\n",
       "  <thead>\n",
       "    <tr style=\"text-align: right;\">\n",
       "      <th></th>\n",
       "      <th>nunique</th>\n",
       "      <th>dtypes</th>\n",
       "      <th>isnull</th>\n",
       "      <th>sample</th>\n",
       "    </tr>\n",
       "  </thead>\n",
       "  <tbody>\n",
       "    <tr>\n",
       "      <th>passenger_id</th>\n",
       "      <td>891</td>\n",
       "      <td>int64</td>\n",
       "      <td>0</td>\n",
       "      <td>169</td>\n",
       "    </tr>\n",
       "    <tr>\n",
       "      <th>survived</th>\n",
       "      <td>2</td>\n",
       "      <td>int64</td>\n",
       "      <td>0</td>\n",
       "      <td>0</td>\n",
       "    </tr>\n",
       "    <tr>\n",
       "      <th>pclass</th>\n",
       "      <td>3</td>\n",
       "      <td>int64</td>\n",
       "      <td>0</td>\n",
       "      <td>3</td>\n",
       "    </tr>\n",
       "    <tr>\n",
       "      <th>sex</th>\n",
       "      <td>2</td>\n",
       "      <td>object</td>\n",
       "      <td>0</td>\n",
       "      <td>male</td>\n",
       "    </tr>\n",
       "    <tr>\n",
       "      <th>age</th>\n",
       "      <td>88</td>\n",
       "      <td>float64</td>\n",
       "      <td>177</td>\n",
       "      <td>28.0</td>\n",
       "    </tr>\n",
       "    <tr>\n",
       "      <th>sibsp</th>\n",
       "      <td>7</td>\n",
       "      <td>int64</td>\n",
       "      <td>0</td>\n",
       "      <td>0</td>\n",
       "    </tr>\n",
       "    <tr>\n",
       "      <th>parch</th>\n",
       "      <td>7</td>\n",
       "      <td>int64</td>\n",
       "      <td>0</td>\n",
       "      <td>0</td>\n",
       "    </tr>\n",
       "    <tr>\n",
       "      <th>fare</th>\n",
       "      <td>248</td>\n",
       "      <td>float64</td>\n",
       "      <td>0</td>\n",
       "      <td>56.4958</td>\n",
       "    </tr>\n",
       "    <tr>\n",
       "      <th>embarked</th>\n",
       "      <td>3</td>\n",
       "      <td>object</td>\n",
       "      <td>2</td>\n",
       "      <td>S</td>\n",
       "    </tr>\n",
       "    <tr>\n",
       "      <th>class</th>\n",
       "      <td>3</td>\n",
       "      <td>object</td>\n",
       "      <td>0</td>\n",
       "      <td>Third</td>\n",
       "    </tr>\n",
       "    <tr>\n",
       "      <th>deck</th>\n",
       "      <td>7</td>\n",
       "      <td>object</td>\n",
       "      <td>688</td>\n",
       "      <td>NaN</td>\n",
       "    </tr>\n",
       "    <tr>\n",
       "      <th>embark_town</th>\n",
       "      <td>3</td>\n",
       "      <td>object</td>\n",
       "      <td>2</td>\n",
       "      <td>Southampton</td>\n",
       "    </tr>\n",
       "    <tr>\n",
       "      <th>alone</th>\n",
       "      <td>2</td>\n",
       "      <td>int64</td>\n",
       "      <td>0</td>\n",
       "      <td>1</td>\n",
       "    </tr>\n",
       "  </tbody>\n",
       "</table>\n",
       "</div>"
      ],
      "text/plain": [
       "              nunique   dtypes  isnull       sample\n",
       "passenger_id      891    int64       0          169\n",
       "survived            2    int64       0            0\n",
       "pclass              3    int64       0            3\n",
       "sex                 2   object       0         male\n",
       "age                88  float64     177         28.0\n",
       "sibsp               7    int64       0            0\n",
       "parch               7    int64       0            0\n",
       "fare              248  float64       0      56.4958\n",
       "embarked            3   object       2            S\n",
       "class               3   object       0        Third\n",
       "deck                7   object     688          NaN\n",
       "embark_town         3   object       2  Southampton\n",
       "alone               2    int64       0            1"
      ]
     },
     "execution_count": 26,
     "metadata": {},
     "output_type": "execute_result"
    }
   ],
   "source": [
    "# import Titanic\n",
    "raw_titanic = a.get_titanic_data()\n",
    "\n",
    "# Check data\n",
    "a.df_info(raw_titanic)"
   ]
  },
  {
   "cell_type": "code",
   "execution_count": 28,
   "id": "0211ebce-4003-454f-81c7-6b441c48eeea",
   "metadata": {
    "tags": []
   },
   "outputs": [
    {
     "data": {
      "text/html": [
       "<div>\n",
       "<style scoped>\n",
       "    .dataframe tbody tr th:only-of-type {\n",
       "        vertical-align: middle;\n",
       "    }\n",
       "\n",
       "    .dataframe tbody tr th {\n",
       "        vertical-align: top;\n",
       "    }\n",
       "\n",
       "    .dataframe thead th {\n",
       "        text-align: right;\n",
       "    }\n",
       "</style>\n",
       "<table border=\"1\" class=\"dataframe\">\n",
       "  <thead>\n",
       "    <tr style=\"text-align: right;\">\n",
       "      <th></th>\n",
       "      <th>nunique</th>\n",
       "      <th>dtypes</th>\n",
       "      <th>isnull</th>\n",
       "      <th>sample</th>\n",
       "    </tr>\n",
       "  </thead>\n",
       "  <tbody>\n",
       "    <tr>\n",
       "      <th>passenger_id</th>\n",
       "      <td>891</td>\n",
       "      <td>object</td>\n",
       "      <td>0</td>\n",
       "      <td>79</td>\n",
       "    </tr>\n",
       "    <tr>\n",
       "      <th>survived</th>\n",
       "      <td>2</td>\n",
       "      <td>object</td>\n",
       "      <td>0</td>\n",
       "      <td>1</td>\n",
       "    </tr>\n",
       "    <tr>\n",
       "      <th>pclass</th>\n",
       "      <td>3</td>\n",
       "      <td>object</td>\n",
       "      <td>0</td>\n",
       "      <td>3</td>\n",
       "    </tr>\n",
       "    <tr>\n",
       "      <th>sex</th>\n",
       "      <td>2</td>\n",
       "      <td>object</td>\n",
       "      <td>0</td>\n",
       "      <td>female</td>\n",
       "    </tr>\n",
       "    <tr>\n",
       "      <th>age</th>\n",
       "      <td>91</td>\n",
       "      <td>float64</td>\n",
       "      <td>0</td>\n",
       "      <td>30.0</td>\n",
       "    </tr>\n",
       "    <tr>\n",
       "      <th>sibsp</th>\n",
       "      <td>7</td>\n",
       "      <td>object</td>\n",
       "      <td>0</td>\n",
       "      <td>0</td>\n",
       "    </tr>\n",
       "    <tr>\n",
       "      <th>parch</th>\n",
       "      <td>7</td>\n",
       "      <td>object</td>\n",
       "      <td>0</td>\n",
       "      <td>0</td>\n",
       "    </tr>\n",
       "    <tr>\n",
       "      <th>fare</th>\n",
       "      <td>248</td>\n",
       "      <td>float64</td>\n",
       "      <td>0</td>\n",
       "      <td>12.475</td>\n",
       "    </tr>\n",
       "    <tr>\n",
       "      <th>embark_town</th>\n",
       "      <td>3</td>\n",
       "      <td>object</td>\n",
       "      <td>0</td>\n",
       "      <td>Southampton</td>\n",
       "    </tr>\n",
       "    <tr>\n",
       "      <th>alone</th>\n",
       "      <td>2</td>\n",
       "      <td>object</td>\n",
       "      <td>0</td>\n",
       "      <td>1</td>\n",
       "    </tr>\n",
       "  </tbody>\n",
       "</table>\n",
       "</div>"
      ],
      "text/plain": [
       "              nunique   dtypes  isnull       sample\n",
       "passenger_id      891   object       0           79\n",
       "survived            2   object       0            1\n",
       "pclass              3   object       0            3\n",
       "sex                 2   object       0       female\n",
       "age                91  float64       0         30.0\n",
       "sibsp               7   object       0            0\n",
       "parch               7   object       0            0\n",
       "fare              248  float64       0       12.475\n",
       "embark_town         3   object       0  Southampton\n",
       "alone               2   object       0            1"
      ]
     },
     "execution_count": 28,
     "metadata": {},
     "output_type": "execute_result"
    }
   ],
   "source": [
    "# Clean Titanic\n",
    "titanic = p.prep_titanic(raw_titanic)\n",
    "\n",
    "# check data\n",
    "a.df_info(titanic)"
   ]
  },
  {
   "cell_type": "code",
   "execution_count": 32,
   "id": "4c667a9a-e4fa-476b-a272-1a3c4a5ba63a",
   "metadata": {
    "tags": []
   },
   "outputs": [
    {
     "data": {
      "text/html": [
       "<div>\n",
       "<style scoped>\n",
       "    .dataframe tbody tr th:only-of-type {\n",
       "        vertical-align: middle;\n",
       "    }\n",
       "\n",
       "    .dataframe tbody tr th {\n",
       "        vertical-align: top;\n",
       "    }\n",
       "\n",
       "    .dataframe thead th {\n",
       "        text-align: right;\n",
       "    }\n",
       "</style>\n",
       "<table border=\"1\" class=\"dataframe\">\n",
       "  <thead>\n",
       "    <tr style=\"text-align: right;\">\n",
       "      <th></th>\n",
       "      <th>nunique</th>\n",
       "      <th>dtypes</th>\n",
       "      <th>isnull</th>\n",
       "      <th>sample</th>\n",
       "    </tr>\n",
       "  </thead>\n",
       "  <tbody>\n",
       "    <tr>\n",
       "      <th>passenger_id</th>\n",
       "      <td>534</td>\n",
       "      <td>object</td>\n",
       "      <td>0</td>\n",
       "      <td>200</td>\n",
       "    </tr>\n",
       "    <tr>\n",
       "      <th>survived</th>\n",
       "      <td>2</td>\n",
       "      <td>object</td>\n",
       "      <td>0</td>\n",
       "      <td>0</td>\n",
       "    </tr>\n",
       "    <tr>\n",
       "      <th>pclass</th>\n",
       "      <td>3</td>\n",
       "      <td>object</td>\n",
       "      <td>0</td>\n",
       "      <td>3</td>\n",
       "    </tr>\n",
       "    <tr>\n",
       "      <th>sex</th>\n",
       "      <td>2</td>\n",
       "      <td>object</td>\n",
       "      <td>0</td>\n",
       "      <td>male</td>\n",
       "    </tr>\n",
       "    <tr>\n",
       "      <th>age</th>\n",
       "      <td>79</td>\n",
       "      <td>float64</td>\n",
       "      <td>0</td>\n",
       "      <td>28.0</td>\n",
       "    </tr>\n",
       "    <tr>\n",
       "      <th>sibsp</th>\n",
       "      <td>7</td>\n",
       "      <td>object</td>\n",
       "      <td>0</td>\n",
       "      <td>0</td>\n",
       "    </tr>\n",
       "    <tr>\n",
       "      <th>parch</th>\n",
       "      <td>6</td>\n",
       "      <td>object</td>\n",
       "      <td>0</td>\n",
       "      <td>0</td>\n",
       "    </tr>\n",
       "    <tr>\n",
       "      <th>fare</th>\n",
       "      <td>194</td>\n",
       "      <td>float64</td>\n",
       "      <td>0</td>\n",
       "      <td>9.5</td>\n",
       "    </tr>\n",
       "    <tr>\n",
       "      <th>embark_town</th>\n",
       "      <td>3</td>\n",
       "      <td>object</td>\n",
       "      <td>0</td>\n",
       "      <td>Southampton</td>\n",
       "    </tr>\n",
       "    <tr>\n",
       "      <th>alone</th>\n",
       "      <td>2</td>\n",
       "      <td>object</td>\n",
       "      <td>0</td>\n",
       "      <td>1</td>\n",
       "    </tr>\n",
       "  </tbody>\n",
       "</table>\n",
       "</div>"
      ],
      "text/plain": [
       "              nunique   dtypes  isnull       sample\n",
       "passenger_id      534   object       0          200\n",
       "survived            2   object       0            0\n",
       "pclass              3   object       0            3\n",
       "sex                 2   object       0         male\n",
       "age                79  float64       0         28.0\n",
       "sibsp               7   object       0            0\n",
       "parch               6   object       0            0\n",
       "fare              194  float64       0          9.5\n",
       "embark_town         3   object       0  Southampton\n",
       "alone               2   object       0            1"
      ]
     },
     "execution_count": 32,
     "metadata": {},
     "output_type": "execute_result"
    }
   ],
   "source": [
    "# Split Titanic\n",
    "df_sets = train,validate,test = p.split_df(titanic,'survived')\n",
    "\n",
    "# check train\n",
    "a.df_info(train)"
   ]
  },
  {
   "cell_type": "code",
   "execution_count": 34,
   "id": "d807cc5b-3209-4fd6-9ef9-020e30c1795a",
   "metadata": {
    "tags": []
   },
   "outputs": [
    {
     "name": "stdout",
     "output_type": "stream",
     "text": [
      "Shape: (534, 10)\n",
      "Shape: (178, 10)\n",
      "Shape: (179, 10)\n"
     ]
    }
   ],
   "source": [
    "for df in df_sets:\n",
    "    print(f'Shape: {df.shape}')"
   ]
  },
  {
   "cell_type": "code",
   "execution_count": 20,
   "id": "62a28840-aebb-41fd-ac90-c84508fd3fff",
   "metadata": {
    "tags": []
   },
   "outputs": [],
   "source": [
    "# Encode Titanic\n",
    "\n",
    "\n",
    "# check encoded train\n"
   ]
  },
  {
   "cell_type": "code",
   "execution_count": 22,
   "id": "3ef1b44e-2292-4e79-8281-bbf27fc619dc",
   "metadata": {
    "tags": []
   },
   "outputs": [],
   "source": [
    "# Get X's\n",
    "\n",
    "# check x_train"
   ]
  },
  {
   "cell_type": "code",
   "execution_count": 24,
   "id": "4badde6e-3618-45c6-9ea7-b2a3ac77c58b",
   "metadata": {
    "tags": []
   },
   "outputs": [],
   "source": [
    "# Get y's\n",
    "\n",
    "# check y_train"
   ]
  },
  {
   "cell_type": "code",
   "execution_count": null,
   "id": "bd8843d1-c0dd-4a4f-a54b-fc1a63f2274e",
   "metadata": {},
   "outputs": [],
   "source": []
  },
  {
   "cell_type": "markdown",
   "id": "3c447f85-0e7d-4013-b393-f55f7cfb72ab",
   "metadata": {},
   "source": [
    "1. [ ] Fit a K-Nearest Neighbors classifier to your training sample and transform (i.e. make predictions on the training sample)"
   ]
  },
  {
   "cell_type": "markdown",
   "id": "1241eebe-5065-4358-8384-b8370a4b9a3a",
   "metadata": {},
   "source": [
    "2. [ ] Evaluate your results using the model score, confusion matrix, and classification report."
   ]
  },
  {
   "cell_type": "markdown",
   "id": "febb6461-f3fc-4333-8b8e-76b29e417b66",
   "metadata": {},
   "source": [
    "3. [ ] Print and clearly label the following: Accuracy, true positive rate, false positive rate, true negative rate, false negative rate, precision, recall, f1-score, and support."
   ]
  },
  {
   "cell_type": "markdown",
   "id": "a835d607-4fba-49a0-a29b-5de4f9c8f211",
   "metadata": {},
   "source": [
    "4. [ ] Run through steps 1-3 setting k to 10"
   ]
  },
  {
   "cell_type": "markdown",
   "id": "cdaecb92-fc4b-4212-98b2-2e9c197da346",
   "metadata": {},
   "source": [
    "5. [ ] Run through steps 1-3 setting k to 20"
   ]
  },
  {
   "cell_type": "markdown",
   "id": "6aeb4ccd-961f-4616-9dfb-1bcd6694cf80",
   "metadata": {},
   "source": [
    "6. [ ] What are the differences in the evaluation metrics? Which performs better on your in-sample data? Why?"
   ]
  },
  {
   "cell_type": "markdown",
   "id": "fe2662e6-d8bc-43df-9014-52cb5ab1bf66",
   "metadata": {},
   "source": [
    "7. [ ] Which model performs best on our out-of-sample data from `validate`?"
   ]
  },
  {
   "cell_type": "code",
   "execution_count": null,
   "id": "9d0d0a06-4bc4-4184-90ed-f8df2e1259a4",
   "metadata": {},
   "outputs": [],
   "source": []
  }
 ],
 "metadata": {
  "kernelspec": {
   "display_name": "Python 3 (ipykernel)",
   "language": "python",
   "name": "python3"
  },
  "language_info": {
   "codemirror_mode": {
    "name": "ipython",
    "version": 3
   },
   "file_extension": ".py",
   "mimetype": "text/x-python",
   "name": "python",
   "nbconvert_exporter": "python",
   "pygments_lexer": "ipython3",
   "version": "3.11.5"
  }
 },
 "nbformat": 4,
 "nbformat_minor": 5
}
