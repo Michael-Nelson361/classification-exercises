{
 "cells": [
  {
   "cell_type": "markdown",
   "id": "1f01a9e5-d206-4b56-838b-a29968f763bd",
   "metadata": {},
   "source": [
    "Do these exercises in a notebook called `modeling.ipynb` first, then transfer the final functions to the `model.py` file.\n",
    "- [ ] done"
   ]
  },
  {
   "cell_type": "markdown",
   "id": "0870791e-bc49-48a1-ad64-fe371d1345a7",
   "metadata": {},
   "source": [
    "Using the Titanic dataset\n",
    "\n",
    "1. [ ] Use the function defined in `acquire.py` to load the Titanic data."
   ]
  },
  {
   "cell_type": "markdown",
   "id": "8a04ca4b-b71f-4b49-8f9c-d1fb50870704",
   "metadata": {},
   "source": [
    "2. [ ] Use the function defined in `prepare.py` to prepare the titanic data."
   ]
  },
  {
   "cell_type": "markdown",
   "id": "9e9db85c-be67-4d09-ab4f-b19ff56c17ba",
   "metadata": {},
   "source": [
    "3. [ ] Encode the categorical columns on train dataset. Create dummy variables of the categorical columns and concatenate them onto the dataframe. Remove the columns they are replacing. Repeat on validate and test."
   ]
  },
  {
   "cell_type": "markdown",
   "id": "8ce9837e-86c2-43c7-a652-4286062d7ec0",
   "metadata": {},
   "source": [
    "4. [ ] Create a function named `preprocess_titanic` that accepts the train, validate, and test titanic data, and returns the dataframes ready for modeling."
   ]
  },
  {
   "cell_type": "markdown",
   "id": "7773ddda-213a-4e2f-bd95-95a1a6a91c60",
   "metadata": {},
   "source": [
    "Using the Telco dataset\n",
    "\n",
    "1. [ ] Use the function defined in `acquire.py` to load the Telco data."
   ]
  },
  {
   "cell_type": "markdown",
   "id": "8865f7ca-6319-4a2e-9739-d7172c698731",
   "metadata": {},
   "source": [
    "2. [ ] Use the function defined in `prepare.py` to prepare the Telco data."
   ]
  },
  {
   "cell_type": "markdown",
   "id": "8498eacf-b23b-4c4d-8de2-a6f184b8ed00",
   "metadata": {},
   "source": [
    "3. Encode the categorical columns on train.\n",
    "    1. [ ] Encode at least one column using `.replace`\n",
    "    2. [ ] Encode at least one column using `.map`\n",
    "    3. [ ] Encode the rest of the columns by creating dummy variables and concatenating them onto the dataframe."
   ]
  },
  {
   "cell_type": "markdown",
   "id": "06a8cb3b-6154-424a-9867-7c2a2fbd6b57",
   "metadata": {},
   "source": [
    "4. [ ] Repeat the same steps on validate and test."
   ]
  },
  {
   "cell_type": "markdown",
   "id": "bcd83240-d6a4-4d78-acd9-6de8d7879e79",
   "metadata": {},
   "source": [
    "5. [ ] Create a function named `prep_telco` that accepts the train, validate, and test telco data, and returns the dataframes ready for modeling."
   ]
  },
  {
   "cell_type": "code",
   "execution_count": null,
   "id": "d88b56fa-1c08-417a-80b8-09f52b0a177b",
   "metadata": {},
   "outputs": [],
   "source": []
  }
 ],
 "metadata": {
  "kernelspec": {
   "display_name": "Python 3 (ipykernel)",
   "language": "python",
   "name": "python3"
  },
  "language_info": {
   "codemirror_mode": {
    "name": "ipython",
    "version": 3
   },
   "file_extension": ".py",
   "mimetype": "text/x-python",
   "name": "python",
   "nbconvert_exporter": "python",
   "pygments_lexer": "ipython3",
   "version": "3.11.5"
  }
 },
 "nbformat": 4,
 "nbformat_minor": 5
}
